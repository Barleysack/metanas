{
 "cells": [
  {
   "cell_type": "code",
   "execution_count": 8,
   "metadata": {},
   "outputs": [],
   "source": [
    "import torch\n",
    "import torch.nn as nn\n",
    "import numpy as np\n",
    "from torch.autograd import Variable\n"
   ]
  },
  {
   "cell_type": "code",
   "execution_count": 9,
   "metadata": {},
   "outputs": [],
   "source": [
    "model = nn.Sequential(\n",
    "    nn.Linear(1, 64),\n",
    "    nn.Tanh(),\n",
    "    nn.Linear(64, 64),\n",
    "    nn.Tanh(),\n",
    "    nn.Linear(64, 1),\n",
    ")"
   ]
  },
  {
   "cell_type": "code",
   "execution_count": 10,
   "metadata": {},
   "outputs": [],
   "source": [
    "class SineModel(nn.Module):\n",
    "    \n",
    "    def __init__(self):\n",
    "        nn.Module.__init__(self)\n",
    "        \n",
    "        self.main = nn.Sequential(\n",
    "            nn.Linear(1, 40),\n",
    "            nn.ReLU(),            \n",
    "            nn.Linear(40, 40),\n",
    "            nn.ReLU(),\n",
    "            nn.Linear(40, 1),\n",
    "        )\n",
    "        \n",
    "    def forward(self, x):\n",
    "        return self.main(x)\n",
    "\n",
    "class SineWaveTask:\n",
    "    def __init__(self):\n",
    "        self.a = np.random.uniform(0.1, 5.0)\n",
    "        self.b = np.random.uniform(0, 2*np.pi)\n",
    "        self.train_x = None\n",
    "        \n",
    "    def f(self, x):\n",
    "        return self.a * np.sin(x + self.b)\n",
    "        \n",
    "    def training_set(self, size=10, force_new=False):\n",
    "        if self.train_x is None and not force_new:\n",
    "            self.train_x = np.random.uniform(-5, 5, size)\n",
    "            x = self.train_x\n",
    "        elif not force_new:\n",
    "            x = self.train_x\n",
    "        else:\n",
    "            x = np.random.uniform(-5, 5, size)\n",
    "        y = self.f(x)\n",
    "        return torch.Tensor(x), torch.Tensor(y)\n",
    "    \n",
    "    def test_set(self, size=50):\n",
    "        x = np.linspace(-5, 5, size)\n",
    "        y = self.f(x)\n",
    "        return torch.Tensor(x), torch.Tensor(y)\n",
    "    \n",
    "\n"
   ]
  },
  {
   "cell_type": "code",
   "execution_count": 13,
   "metadata": {},
   "outputs": [],
   "source": [
    "def do_base_learning(model, wave, lr_inner, n_inner):\n",
    "    new_model = SineModel()\n",
    "    inner_optimizer = torch.optim.SGD(new_model.parameters(), lr=lr_inner)\n",
    "    # K steps of gradient descent\n",
    "    for i in range(n_inner):\n",
    "\n",
    "        x, y_true = wave.training_set()\n",
    "        x = Variable(x[:, None])\n",
    "        y_true = Variable(y_true[:, None])\n",
    "\n",
    "        y_pred = new_model(x)\n",
    "\n",
    "        loss = ((y_pred - y_true)**2).mean()\n",
    "\n",
    "        inner_optimizer.zero_grad()\n",
    "        loss.backward()\n",
    "        inner_optimizer.step()\n",
    "    return new_model"
   ]
  },
  {
   "cell_type": "code",
   "execution_count": 17,
   "metadata": {},
   "outputs": [],
   "source": [
    "import random \n",
    "TRAIN_SIZE = 10000\n",
    "TEST_SIZE = 1000\n",
    "SINE_TRAIN = [SineWaveTask() for _ in range(TRAIN_SIZE)]\n",
    "wave = random.sample(SINE_TRAIN, 1)[0]\n",
    "\n",
    "        # Take k gradient steps\n",
    "new_model = do_base_learning(model, wave, 0.001, 10000)"
   ]
  },
  {
   "cell_type": "code",
   "execution_count": 36,
   "metadata": {},
   "outputs": [
    {
     "data": {
      "text/plain": [
       "<generator object Module.named_parameters at 0x000001E9BE108820>"
      ]
     },
     "execution_count": 36,
     "metadata": {},
     "output_type": "execute_result"
    }
   ],
   "source": [
    "params = new_model.named_parameters()\n",
    "params"
   ]
  },
  {
   "cell_type": "code",
   "execution_count": 38,
   "metadata": {},
   "outputs": [
    {
     "name": "stdout",
     "output_type": "stream",
     "text": [
      "main.0.bias torch.Size([40])\n",
      "main.2.weight torch.Size([40, 40])\n",
      "main.2.bias torch.Size([40])\n",
      "main.4.weight torch.Size([1, 40])\n",
      "main.4.bias torch.Size([1])\n"
     ]
    }
   ],
   "source": [
    "for name, weight in params:\n",
    "    print(name,weight.size())"
   ]
  },
  {
   "cell_type": "code",
   "execution_count": null,
   "metadata": {},
   "outputs": [],
   "source": []
  }
 ],
 "metadata": {
  "interpreter": {
   "hash": "fd4e47a75e167cd6fb49c8a01ede3ec81cf158e6e4c3de5acd9ca71c887b8c79"
  },
  "kernelspec": {
   "display_name": "Python 3.8.8 ('base')",
   "language": "python",
   "name": "python3"
  },
  "language_info": {
   "codemirror_mode": {
    "name": "ipython",
    "version": 3
   },
   "file_extension": ".py",
   "mimetype": "text/x-python",
   "name": "python",
   "nbconvert_exporter": "python",
   "pygments_lexer": "ipython3",
   "version": "3.8.8"
  },
  "orig_nbformat": 4
 },
 "nbformat": 4,
 "nbformat_minor": 2
}
